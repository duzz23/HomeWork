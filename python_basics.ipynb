{
 "cells": [
  {
   "cell_type": "markdown",
   "metadata": {},
   "source": [
    "**Задание 1**. Даны 2 строки: *long_phrase* и *short_phrase*. \n",
    "Напишите код, который проверяет действительно ли длинная фраза *long_phrase* длиннее короткой *short_phrase*. И выводит *True* или *False* в зависимости от результата сравнения."
   ]
  },
  {
   "cell_type": "code",
   "execution_count": 4,
   "metadata": {},
   "outputs": [],
   "source": [
    "long_phrase = 'Насколько проще было бы писать программы, если бы не заказчики'\n",
    "short_phrase = '640Кб должно хватить для любых задач. Билл Гейтс (по легенде)'"
   ]
  },
  {
   "cell_type": "code",
   "execution_count": 8,
   "metadata": {},
   "outputs": [
    {
     "data": {
      "text/plain": [
       "True"
      ]
     },
     "execution_count": 8,
     "metadata": {},
     "output_type": "execute_result"
    }
   ],
   "source": [
    "len(long_phrase) > len(short_phrase)\n"
   ]
  },
  {
   "cell_type": "markdown",
   "metadata": {},
   "source": [
    "**Задание 2**. Дано значение объема файла в байтах (*в мегабайте 2^20 байт*). Напишите перевод этого значения в мегабайты в формате: \"*Объем файла равен 213.68Mb*\"."
   ]
  },
  {
   "cell_type": "code",
   "execution_count": 17,
   "metadata": {},
   "outputs": [
    {
     "name": "stdout",
     "output_type": "stream",
     "text": [
      "Объем файла равен 1e-05Mb\n"
     ]
    }
   ],
   "source": [
    "#bait = int(input('вести количество байт'))\n",
    "bait = 10\n",
    "Mb = str(bait / 1000000 )\n",
    "print('Объем файла равен ' + Mb + 'Mb')"
   ]
  },
  {
   "cell_type": "markdown",
   "metadata": {},
   "source": [
    "**Задание 3**. Разработать приложение для определения знака зодиака по дате рождения. Пример:\n",
    "\n",
    "Введите месяц: март\n",
    "\n",
    "Введите число: 6\n",
    "\n",
    "Вывод:\n",
    "Рыбы"
   ]
  },
  {
   "cell_type": "code",
   "execution_count": 4,
   "metadata": {
    "scrolled": true
   },
   "outputs": [
    {
     "name": "stdout",
     "output_type": "stream",
     "text": [
      "Вести месяц апрель\n",
      "Вести дату 21\n",
      "Телец\n"
     ]
    }
   ],
   "source": [
    "  \n",
    "month = input('Вести месяц ')\n",
    "date = int(input('Вести дату ')) \n",
    "\n",
    "if date >= 21 < 31 and month == 'март':\n",
    "    print('Овен')\n",
    "elif date < 21 and month == 'апрель':\n",
    "    print('Овен')\n",
    "elif date >= 21 < 30 and month == 'апрель':\n",
    "    print('Телец')\n",
    "elif date < 21 and month == 'май':\n",
    "    print('Телец')\n",
    "elif date >= 21 < 31 and month == 'май':\n",
    "    print('Близнецы')\n",
    "elif date < 21 and month == 'июль':\n",
    "    print('Близнецы')\n",
    "elif date >= 21 < 30 and month == 'июль':\n",
    "    print('Рак')\n",
    "elif date < 22 and month == 'июня':\n",
    "    print('Рак')\n",
    "elif date >= 23 < 31 and month == 'июль':\n",
    "    print('Лев')\n",
    "elif date < 23 and month == 'августа':\n",
    "    print('Лев')\n",
    "elif date >= 24 < 31 and month == 'августа':\n",
    "    print('Дева')\n",
    "elif date < 23 and month == 'сентября':\n",
    "    print('Дева')\n",
    "elif date >= 24 < 30 and month == 'сентябырь':\n",
    "    print('Весы')\n",
    "elif date < 24 and month == 'октябырь':\n",
    "    print('Весы')\n",
    "elif date >= 24 < 31 and month == 'октябрь':\n",
    "    print('Скорпион')\n",
    "elif date < 22 and month == 'ноябырь':\n",
    "    print('Скорпион')\n",
    "elif date >= 23 < 30 and month == 'ноябырь':\n",
    "    print('Стрылец')\n",
    "elif date < 21 and month == 'декабырь':\n",
    "    print('Стрылец')\n",
    "elif date >= 22 < 31 and month == 'декабырь':\n",
    "    print('Козерог')\n",
    "elif date < 18 and month == 'январь':\n",
    "    print('Козерог')\n",
    "elif date >= 19 < 31 and month == 'январь':\n",
    "    print('Водолей')\n",
    "elif date < 18 and month == 'февраль':\n",
    "    print('Водолей')\n",
    "elif date >= 19 < 28 and month == 'февраль':\n",
    "    print('Рыбы')\n",
    "elif date < 21 and month == 'март':\n",
    "    print('Рыбы')\n",
    "\n",
    "\n"
   ]
  },
  {
   "cell_type": "markdown",
   "metadata": {},
   "source": [
    "## **Задание 4**. Нужно разработать приложение для финансового планирования.\n",
    "Приложение учитывает сколько уходит на ипотеку, \"на жизнь\" и сколько нужно отложить на пенсию.\n",
    "Пользователь вводит:\n",
    "- заработанную плату в месяц.\n",
    "- сколько процентов от ЗП уходит на ипотеку.\n",
    "- сколько процентов от ЗП уходит \"на жизнь\".\n",
    "- сколько раз приходит премия в год.\n",
    "\n",
    "Остальная часть заработанной платы откладывается на пенсию.\n",
    "\n",
    "Также пользователю приходит премия в размере зарплаты, от которой половина уходит на отпуск, а вторая половина откладывается.\n",
    "\n",
    "Программа должна учитывать сколько премий было в год.\n",
    "\n",
    "Нужно вывести сколько денег тратит пользователь на ипотеку и сколько он накопит за год.\n",
    "\n",
    "Пример:\n",
    "\n",
    "Введите заработанную плату в месяц: 100000\n",
    "\n",
    "Введите сколько процентов уходит на ипотеку: 30\n",
    "\n",
    "Введите сколько процентов уходит на жизнь: 50\n",
    "\n",
    "Введите количество премий за год: 2\n",
    "\n",
    "Вывод:\n",
    "На ипотеку было потрачено: 360000 рублей\n",
    "Было накоплено: 340000 рублей"
   ]
  },
  {
   "cell_type": "code",
   "execution_count": null,
   "metadata": {},
   "outputs": [],
   "source": [
    "\n",
    "salary = int(input('Заработанную плату в месяц '))\n",
    "mortgage_percentage = int(input('Сколько процентов от ЗП уходит на ипотекух '))\n",
    "percentage_on_life = int(input('Сколько процентов от ЗП уходит \"на жизнь\" '))\n",
    "premium_in_year = int(input('Сколько раз приходит премия в год ')) \n",
    "\n",
    "mortgage_in_month = (salary / 100) * mortgage_percentage\n",
    "mortgage_in_year = mortgage_in_month * 12 \n",
    "print('На ипотеку было потрачено ' + str(mortgage_in_year))\n",
    "\n",
    "\n",
    "\n",
    "savings_in_month = salary - mortgage_in_month - ((salary / 100) * percentage_on_life)\n",
    "savings_in_year = savings_in_month * 12 + ((salary / 2) * premium_in_year)\n",
    "print('Было накоплено ' + str(savings_in_year))\n"
   ]
  },
  {
   "cell_type": "code",
   "execution_count": null,
   "metadata": {},
   "outputs": [],
   "source": []
  }
 ],
 "metadata": {
  "kernelspec": {
   "display_name": "Python 3",
   "language": "python",
   "name": "python3"
  },
  "language_info": {
   "codemirror_mode": {
    "name": "ipython",
    "version": 3
   },
   "file_extension": ".py",
   "mimetype": "text/x-python",
   "name": "python",
   "nbconvert_exporter": "python",
   "pygments_lexer": "ipython3",
   "version": "3.8.3"
  }
 },
 "nbformat": 4,
 "nbformat_minor": 2
}
