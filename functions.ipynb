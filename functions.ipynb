{
 "cells": [
  {
   "cell_type": "markdown",
   "metadata": {},
   "source": [
    "Вы работаете секретарем и вам постоянно приходят различные документы. Вы должны быть очень внимательны, чтобы не потерять ни один документ. Каталог документов хранится в следующем виде:"
   ]
  },
  {
   "cell_type": "code",
   "execution_count": 1,
   "metadata": {},
   "outputs": [],
   "source": [
    "documents = [\n",
    "    {'type': 'passport', 'number': '2207 876234', 'name': 'Василий Гупкин'},\n",
    "    {'type': 'invoice', 'number': '11-2', 'name': 'Геннадий Покемонов'},\n",
    "    {'type': 'insurance', 'number': '10006', 'name': 'Аристарх Павлов'}\n",
    "]"
   ]
  },
  {
   "cell_type": "markdown",
   "metadata": {},
   "source": [
    "Перечень полок, на которых находятся документы хранится в следующем виде:"
   ]
  },
  {
   "cell_type": "code",
   "execution_count": 2,
   "metadata": {},
   "outputs": [],
   "source": [
    "directories = {\n",
    "    '1': ['2207 876234', '11-2'],\n",
    "    '2': ['10006'],\n",
    "    '3': []\n",
    "}\n"
   ]
  },
  {
   "cell_type": "code",
   "execution_count": 3,
   "metadata": {},
   "outputs": [
    {
     "name": "stdout",
     "output_type": "stream",
     "text": [
      "\n",
      "   Введите одну из команд: p, s, l, a, d, m, as. \n",
      "   Для выхода наберите exit. \n",
      "   Для вызов справки наберите help. \n",
      "   Ваша команда: a\n",
      "\n",
      "Введите тип документа:id\n",
      "Введите номер документа:6505\n",
      "Введите имя:varganov\n",
      "Введите номер полки (1, 2, 3):3\n",
      "[{'type': 'passport', 'number': '2207 876234', 'name': 'Василий Гупкин'}, {'type': 'invoice', 'number': '11-2', 'name': 'Геннадий Покемонов'}, {'type': 'insurance', 'number': '10006', 'name': 'Аристарх Павлов'}, {'type': 'id', 'number': '6505', 'name': 'varganov'}]\n",
      "{'1': ['2207 876234', '11-2'], '2': ['10006'], '3': ['6505']}\n",
      "\n",
      "   Введите одну из команд: p, s, l, a, d, m, as. \n",
      "   Для выхода наберите exit. \n",
      "   Для вызов справки наберите help. \n",
      "   Ваша команда: exit\n"
     ]
    }
   ],
   "source": [
    "def people(numbers):\n",
    "    for doc_numbers in documents:\n",
    "        if doc_numbers[\"number\"] == numbers:\n",
    "            print(doc_numbers[\"name\"])\n",
    "            break\n",
    "        else:\n",
    "            print('Такого номера документа нет в базе.')\n",
    "        \n",
    "def shelf(number):\n",
    "    for key in directories:\n",
    "        num_list = directories[key]\n",
    "        if number in num_list:\n",
    "            print('Данный лежать на полке #', key)\n",
    "            break\n",
    "        else:\n",
    "            print('Такого номера документа нет в базе.')\n",
    "\n",
    "def people_list():\n",
    "    for persons in documents:\n",
    "        print(persons['type'], '\"'+persons['number']+'\"', '\"'+persons['name']+'\"')\n",
    "        \n",
    "    \n",
    "def add_command(params_type, number, name, directories_number):\n",
    "    if int(directories_number) == 1 or int(directories_number) == 2 or int(directories_number) == 3:\n",
    "        documents.append({\"type\": params_type, \"number\": number, \"name\": name})\n",
    "        directories[directories_number].append(number)\n",
    "    else:\n",
    "        print('Введенной полки не существует. Запись не осуществлена.')\n",
    "        \n",
    "def delet(number):\n",
    "    for i in documents:\n",
    "        if i ['number'] == number:\n",
    "            documents.remove(i)\n",
    "            print(list(documents))\n",
    "            break\n",
    "        else:\n",
    "            print('Введенной документа не существует. Запись не осуществлена.')\n",
    "        \n",
    "        \n",
    "def move(neme_people, new_shelf):\n",
    "    for i in documents:\n",
    "        if i ['number'] == neme_people:\n",
    "            directories[new_shelf].append(i['number'])\n",
    "            break\n",
    "    else:\n",
    "        print('Введенной документа не существует. Запись не осуществлена.')\n",
    "    \n",
    "    for x in directories:\n",
    "        num_list = directories[x]\n",
    "        if neme_people in num_list:\n",
    "            directories[x].remove(neme_people)\n",
    "            print(directories)\n",
    "            break\n",
    "    else:\n",
    "        print('Введенной полки не существует. Запись не осуществлена.')\n",
    "\n",
    "        \n",
    "def add_(type_, number, name, directories_number):\n",
    "    for i in documents:\n",
    "        documents.append({'type': type_, 'number': number, 'name': name})\n",
    "        directories[directories_number].append(number)\n",
    "        print(list(documents))\n",
    "        print(directories)\n",
    "        break \n",
    "    else:\n",
    "        print('Введенной полки не существует. Запись не осуществлена.')\n",
    "\n",
    "        \n",
    "while True:\n",
    "    command = input('\\n \\\n",
    "  Введите одну из команд: p, s, l, a, d, m, as. \\n \\\n",
    "  Для выхода наберите exit. \\n \\\n",
    "  Для вызов справки наберите help. \\n \\\n",
    "  Ваша команда: ')\n",
    "    if command == 'p':\n",
    "        people(input('\\nВведите номер документа:'))\n",
    "    elif command == 's':\n",
    "        shelf(input('\\nВведите номер документа:'))\n",
    "    elif command == 'l':\n",
    "        people_list()\n",
    "    elif command == 'as':\n",
    "        add_command(input('\\nВведите тип документа:'), input('Введите номер документа:'), input('Введите имя:'), input('Введите номер полки (1, 2, 3):'))\n",
    "    elif command == 'd':\n",
    "        delet(input('\\nВведите номер документа:'))    \n",
    "    elif command == 'm':\n",
    "        move(input('\\nВведите номер документа:'), input('\\nВведите номер полки'))\n",
    "    elif command == 'a':\n",
    "        add_(input('\\nВведите тип документа:'), input('Введите номер документа:'), input('Введите имя:'), input('Введите номер полки (1, 2, 3):'))\n",
    "    elif command == 'exit':\n",
    "        break\n",
    "    elif command == 'help':\n",
    "        print('\\n \\\n",
    "    p – people – команда, которая спросит номер документа и выведет имя человека, которому он принадлежит;\\n \\\n",
    "    l – list – команда, которая выведет список всех документов в формате passport \"2207 876234\" \"Василий Гупкин\";\\n \\\n",
    "    s – shelf – команда, которая спросит номер документа и выведет номер полки, на которой он находится;\\n \\\n",
    "    a – add – команда, которая добавит новый документ в каталог и в перечень полок, спросив его номер, тип, имя владельца и номер полки, на котором он будет храниться.')\n",
    "    else:\n",
    "        print('Вы ввели некорректную команду, повторите ввод.')\n"
   ]
  },
  {
   "cell_type": "markdown",
   "metadata": {},
   "source": [
    "# Необходимо реализовать пользовательские команды (внимание! это не название функций, которые должны быть выразительными, а команды, которые вводит пользователь, чтобы получить необходимый результат):\n",
    "  \n",
    "- p – people – команда, которая спросит номер документа и выведет имя человека, которому он принадлежит;  \n",
    "- s – shelf – команда, которая спросит номер документа и выведет номер полки, на которой он находится  \n",
    "*Правильно обработайте ситуации, когда пользователь будет вводить несуществующий документ*.\n",
    "- l – list – команда, которая выведет список всех документов в формате   \n",
    "**passport \"2207 876234\" \"Василий Гупкин\"**  \n",
    "- as – add shelf – команда, которая спросит номер новой полки и добавит ее в перечень. *Предусмотрите случай, когда пользователь добавляет полку, которая уже существует*.\n",
    "- d – delete – команда, которая спросит номер документа и удалит его из каталога и из перечня полок. *Предусмотрите сценарий, когда пользователь вводит несуществующий документ*;  \n",
    "- m – move – команда, которая спросит номер документа и целевую полку и переместит его с текущей полки на целевую. *Корректно обработайте кейсы, когда пользователь пытается переместить несуществующий документ или переместить документ на несуществующую полку*;  \n",
    "- a – add – команда, которая добавит новый документ в каталог и в перечень полок, спросив его номер, тип, имя владельца и номер полки, на котором он будет храниться. *Корректно обработайте ситуацию, когда пользователь будет пытаться добавить документ на несуществующую полку*."
   ]
  },
  {
   "cell_type": "code",
   "execution_count": null,
   "metadata": {},
   "outputs": [],
   "source": []
  }
 ],
 "metadata": {
  "kernelspec": {
   "display_name": "Python 3",
   "language": "python",
   "name": "python3"
  },
  "language_info": {
   "codemirror_mode": {
    "name": "ipython",
    "version": 3
   },
   "file_extension": ".py",
   "mimetype": "text/x-python",
   "name": "python",
   "nbconvert_exporter": "python",
   "pygments_lexer": "ipython3",
   "version": "3.8.3"
  }
 },
 "nbformat": 4,
 "nbformat_minor": 2
}
